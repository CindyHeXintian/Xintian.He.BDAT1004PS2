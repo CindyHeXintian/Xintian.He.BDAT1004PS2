{
 "cells": [
  {
   "cell_type": "code",
   "execution_count": 1,
   "id": "101a7922",
   "metadata": {},
   "outputs": [
    {
     "data": {
      "text/plain": [
       "6"
      ]
     },
     "execution_count": 1,
     "metadata": {},
     "output_type": "execute_result"
    }
   ],
   "source": [
    "#Q1\n",
    "\n",
    "a = 0\n",
    "def b():\n",
    "    global a\n",
    "    a = c(a)\n",
    "def c(a):\n",
    "    return a + 2\n",
    "b()\n",
    "b()\n",
    "b()\n",
    "a\n",
    "\n",
    "#first time b(),a is 2. second time b(), a is 4. thrid time b(), a is 6."
   ]
  },
  {
   "cell_type": "code",
   "execution_count": 10,
   "id": "9021c1bf",
   "metadata": {},
   "outputs": [
    {
     "name": "stdout",
     "output_type": "stream",
     "text": [
      "36\n",
      "File finalterm.py not found.\n"
     ]
    }
   ],
   "source": [
    "#Q2\n",
    "\n",
    "def file_length(file_name):\n",
    "    try:\n",
    "        file = open(file_name)\n",
    "        contents = file.read()\n",
    "        file.close()\n",
    "        print(len(contents))\n",
    "    except FileNotFoundError:\n",
    "        print(f\"File {file_name} not found.\")\n",
    "    \n",
    "file_length('midterm.py')\n",
    "file_length('finalterm.py')"
   ]
  },
  {
   "cell_type": "code",
   "execution_count": 21,
   "id": "c312c374",
   "metadata": {},
   "outputs": [
    {
     "name": "stdout",
     "output_type": "stream",
     "text": [
      "['doll', 'kitten', 'firetruck']\n",
      "I am a Kangaroo located at coordinates (0,0)\n",
      "I am a Kangaroo located at coordinates (3,0)\n"
     ]
    }
   ],
   "source": [
    "#Q3 \n",
    "\n",
    "class Marsupial:\n",
    "    def __init__(self):\n",
    "        self.items = list()\n",
    "    \n",
    "    def put_in_pouch(self, item):\n",
    "        self.items.append(item)\n",
    "    \n",
    "    def pouch_content(self):\n",
    "        return self.items\n",
    "\n",
    "m = Marsupial()\n",
    "m.put_in_pouch('doll')\n",
    "m.put_in_pouch('kitten')\n",
    "m.put_in_pouch('firetruck')\n",
    "print(m.pouch_content())\n",
    "\n",
    "class Kangaroo(Marsupial):\n",
    "    def __init__(self, x, y):\n",
    "        super().__init__()\n",
    "        self.x = x\n",
    "        self.y = y\n",
    "        \n",
    "    def jump(self, dx, dy):\n",
    "        self.x += dx\n",
    "        self.y += dy\n",
    "\n",
    "    def __str__(self):\n",
    "        return f\"I am a Kangaroo located at coordinates ({self.x},{self.y})\"\n",
    "    \n",
    "\n",
    "\n",
    "k = Kangaroo(0,0)\n",
    "print(k)\n",
    "# I am a Kangaroo located at coordinates (0,0)\n",
    "k.put_in_pouch('doll')\n",
    "k.put_in_pouch('firetruck')\n",
    "k.put_in_pouch('kitten')\n",
    "k.pouch_content()\n",
    "# ['doll', 'firetruck', 'kitten']\n",
    "k.jump(1,0)\n",
    "k.jump(1,0)\n",
    "k.jump(1,0)\n",
    "print(k)\n",
    "\n"
   ]
  },
  {
   "cell_type": "code",
   "execution_count": 60,
   "id": "4e5451f5",
   "metadata": {},
   "outputs": [
    {
     "name": "stdout",
     "output_type": "stream",
     "text": [
      "10\n",
      "5\n",
      "16\n",
      "8\n",
      "4\n",
      "2\n",
      "1\n"
     ]
    }
   ],
   "source": [
    "#Q4\n",
    "\n",
    "\n",
    "def Collatz(x):\n",
    "    x = int(x)\n",
    "    if x == 1:\n",
    "        return\n",
    "    elif x % 2 == 0:\n",
    "        x = int(x/2)\n",
    "        print(x)\n",
    "        Collatz(x)\n",
    "    else:\n",
    "        x = 3*x + 1\n",
    "        print(x) \n",
    "        Collatz(x)\n",
    "        \n",
    "Collatz(x=input())"
   ]
  },
  {
   "cell_type": "code",
   "execution_count": 23,
   "id": "7b32d996",
   "metadata": {},
   "outputs": [
    {
     "name": "stdout",
     "output_type": "stream",
     "text": [
      "0\n",
      "1\n",
      "11\n",
      "1001\n"
     ]
    }
   ],
   "source": [
    "#Q5\n",
    "def binary(n):\n",
    "    if n == 0:\n",
    "        return 0\n",
    "    \n",
    "    else:\n",
    "        return (n % 2 + 10 * binary(int(n // 2)))\n",
    "\n",
    "print(binary(0))\n",
    "print(binary(1))\n",
    "print(binary(3))\n",
    "print(binary(9))"
   ]
  },
  {
   "cell_type": "code",
   "execution_count": 26,
   "id": "500097d2",
   "metadata": {},
   "outputs": [
    {
     "data": {
      "text/plain": [
       "['\\n               ',\n",
       " '\\n               ',\n",
       " 'W3C',\n",
       " '\\n            ',\n",
       " 'Site Navigation',\n",
       " 'About W3C ',\n",
       " 'W3C Mission',\n",
       " 'Open Standards Principles',\n",
       " 'Design Principles',\n",
       " 'Web for All',\n",
       " 'Web on Everything',\n",
       " 'Vision',\n",
       " 'Web for Rich Interaction',\n",
       " 'Web of Data and Services',\n",
       " 'Web of Trust',\n",
       " 'Footer Navigation',\n",
       " 'Navigation',\n",
       " 'Contact W3C',\n",
       " 'W3C Updates']"
      ]
     },
     "execution_count": 26,
     "metadata": {},
     "output_type": "execute_result"
    }
   ],
   "source": [
    "#Q6\n",
    "\n",
    "from urllib.parse import urljoin\n",
    "from html.parser import HTMLParser\n",
    "\n",
    "class HeadingParser(HTMLParser):\n",
    "    'collects hyperlink URLs into a list'\n",
    "\n",
    "    def __init__(self):\n",
    "        'initializes parser, the url, and a list'\n",
    "        HTMLParser.__init__(self)\n",
    "        self.inside_heading = False\n",
    "        self.headings = []\n",
    "    \n",
    "    def handle_starttag(self, tag, attrs):\n",
    "        'collects hyperlink URLs in their absolute format'\n",
    "        if tag in ['h1','h2','h3','h4','h5','h6']:\n",
    "            self.inside_heading = True\n",
    "            \n",
    "    def handle_data(self, data):\n",
    "        if self.inside_heading:\n",
    "            self.headings.append(data)\n",
    "    \n",
    "    def handle_endtag(self, tag):\n",
    "        if tag in ['h1','h2','h3','h4','h5','h6']:\n",
    "            self.inside_heading = False\n",
    "                        \n",
    "    def getHeadings(self):\n",
    "        'returns hyperlinks URLs in their absolute format'\n",
    "        return self.headings\n",
    "        \n",
    "\n",
    "# infile = open('w3c.html') \n",
    "# content = infile.read()\n",
    "# infile.close() \n",
    "from urllib.request import urlopen\n",
    "url = 'http://www.w3.org/Consortium/mission.html'\n",
    "resource = urlopen(url)\n",
    "content = resource.read().decode()\n",
    "hp = HeadingParser()\n",
    "hp.feed(content)\n",
    "hp.getHeadings()"
   ]
  },
  {
   "cell_type": "code",
   "execution_count": 30,
   "id": "f423e716",
   "metadata": {},
   "outputs": [
    {
     "name": "stdout",
     "output_type": "stream",
     "text": [
      "http://reed.cs.depaul.edu/lperkovic/one.html\n",
      "    http://reed.cs.depaul.edu/lperkovic/two.html\n",
      "        http://reed.cs.depaul.edu/lperkovic/four.html\n",
      "    http://reed.cs.depaul.edu/lperkovic/three.html\n",
      "        http://reed.cs.depaul.edu/lperkovic/four.html\n"
     ]
    }
   ],
   "source": [
    "#Q7\n",
    "\n",
    "from urllib.request import urlopen\n",
    "response = urlopen('http://www.w3c.org/Consortium/facts.html')\n",
    "\n",
    "\n",
    "visited = set() # initialize visited to an empty set\n",
    "\n",
    "def crawl2(url):\n",
    "    '''a recursive web crawler that calls analyze()\n",
    "       on every visited web page'''\n",
    "\n",
    "    # add url to set of visited pages\n",
    "    global visited     # warns the programmer \n",
    "    visited.add(url)\n",
    "\n",
    "    # analyze() returns a list of hyperlink URLs in web page url \n",
    "    links = analyze(url)\n",
    "\n",
    "    # recursively continue crawl from every link in links\n",
    "    for link in links:\n",
    "        # follow link only if not visited\n",
    "        if link not in visited:\n",
    "            try:\n",
    "                crawl2(link)\n",
    "            except:\n",
    "                pass\n",
    "            \n",
    "\n",
    "def collect_links(url):\n",
    "    # obtain links in the web page\n",
    "    content = urlopen(url).read().decode()\n",
    "    collector = Collector(url)\n",
    "    collector.feed(content)\n",
    "    urls = collector.getLinks()          # get list of links\n",
    "    return urls\n",
    "\n",
    "\n",
    "def webdir(url, depth, indent):\n",
    "    if depth < 0:\n",
    "        return\n",
    "    \n",
    "    print(\" \" * indent * 4 + url)\n",
    "    links = collect_links(url)\n",
    "    \n",
    "    for link in links:\n",
    "        try:\n",
    "            webdir(link, depth - 1, indent + 1)\n",
    "        except:\n",
    "            pass\n",
    "            \n",
    "            \n",
    "webdir('http://reed.cs.depaul.edu/lperkovic/one.html', 2, 0)"
   ]
  },
  {
   "cell_type": "code",
   "execution_count": 17,
   "id": "938af7c2",
   "metadata": {},
   "outputs": [
    {
     "data": {
      "text/plain": [
       "<sqlite3.Cursor at 0x15671b17ab0>"
      ]
     },
     "execution_count": 17,
     "metadata": {},
     "output_type": "execute_result"
    }
   ],
   "source": [
    "#8\n",
    "\n",
    "import sqlite3\n",
    "con = sqlite3.connect('weather1.db')\n",
    "cur = con.cursor()\n",
    "cur.execute(\"CREATE TABLE CityWeather (City text, Country text, Season text, Temperature float, Rainfall float)\")\n"
   ]
  },
  {
   "cell_type": "code",
   "execution_count": 18,
   "id": "f5a01cdc",
   "metadata": {},
   "outputs": [],
   "source": [
    "con.commit()\n",
    "con.close()"
   ]
  },
  {
   "cell_type": "code",
   "execution_count": 19,
   "id": "216e0d5f",
   "metadata": {},
   "outputs": [],
   "source": [
    "import sqlite3\n",
    "con = sqlite3.connect('weather1.db')\n",
    "cur = con.cursor()"
   ]
  },
  {
   "cell_type": "code",
   "execution_count": 20,
   "id": "7af04163",
   "metadata": {},
   "outputs": [],
   "source": [
    "con.commit()"
   ]
  },
  {
   "cell_type": "code",
   "execution_count": 24,
   "id": "2bbc5cd1",
   "metadata": {},
   "outputs": [
    {
     "data": {
      "text/plain": [
       "[('Mumbai', 'India', 'Winter', 24.8, 5.9),\n",
       " ('Mumbai', 'India', 'Spring', 28.4, 16.2),\n",
       " ('Mumbai', 'India', 'Summer', 27.9, 1549.4),\n",
       " ('Mumbai', 'India', 'Fall', 27.6, 346.0),\n",
       " ('London', 'United Kingdom', 'Winter', 4.2, 207.7),\n",
       " ('London', 'United Kingdom', 'Spring', 8.3, 169.6),\n",
       " ('London', 'United Kingdom', 'Summer', 15.7, 157.0),\n",
       " ('London', 'United Kingdom', 'Fall', 10.4, 218.5),\n",
       " ('Cairo', 'Egypt', 'Winter', 13.6, 16.5),\n",
       " ('Cairo', 'Egypt', 'Spring', 20.7, 6.5),\n",
       " ('Cairo', 'Egypt', 'Summer', 27.7, 0.1),\n",
       " ('Cairo', 'Egypt', 'Fall', 22.2, 4.5)]"
      ]
     },
     "execution_count": 24,
     "metadata": {},
     "output_type": "execute_result"
    }
   ],
   "source": [
    "cur.execute(\"SELECT * FROM CityWeather\")\n",
    "cur.fetchall()"
   ]
  },
  {
   "cell_type": "code",
   "execution_count": 22,
   "id": "4491d66c",
   "metadata": {},
   "outputs": [],
   "source": [
    "cur.execute(\"INSERT INTO CityWeather VALUES ('Mumbai', 'India', 'Winter', 24.8, 5.9)\")\n",
    "cur.execute(\"INSERT INTO CityWeather VALUES ('Mumbai', 'India', 'Spring', 28.4, 16.2)\")\n",
    "cur.execute(\"INSERT INTO CityWeather VALUES ('Mumbai', 'India', 'Summer', 27.9, 1549.4)\")\n",
    "cur.execute(\"INSERT INTO CityWeather VALUES ('Mumbai', 'India', 'Fall', 27.6, 346.0)\")\n",
    "cur.execute(\"INSERT INTO CityWeather VALUES ('London', 'United Kingdom', 'Winter', 4.2, 207.7)\")\n",
    "cur.execute(\"INSERT INTO CityWeather VALUES ('London', 'United Kingdom', 'Spring', 8.3, 169.6)\")\n",
    "cur.execute(\"INSERT INTO CityWeather VALUES ('London', 'United Kingdom', 'Summer', 15.7, 157.0)\")\n",
    "cur.execute(\"INSERT INTO CityWeather VALUES ('London', 'United Kingdom', 'Fall', 10.4, 218.5)\")\n",
    "cur.execute(\"INSERT INTO CityWeather VALUES ('Cairo', 'Egypt', 'Winter', 13.6, 16.5)\")\n",
    "cur.execute(\"INSERT INTO CityWeather VALUES ('Cairo', 'Egypt', 'Spring', 20.7, 6.5)\")\n",
    "cur.execute(\"INSERT INTO CityWeather VALUES ('Cairo', 'Egypt', 'Summer', 27.7, 0.1)\")\n",
    "cur.execute(\"INSERT INTO CityWeather VALUES ('Cairo', 'Egypt', 'Fall', 22.2, 4.5)\")\n",
    "\n",
    "con.commit()"
   ]
  },
  {
   "cell_type": "code",
   "execution_count": 23,
   "id": "a72cc608",
   "metadata": {},
   "outputs": [
    {
     "data": {
      "text/plain": [
       "[('Mumbai', 'India', 'Winter', 24.8, 5.9),\n",
       " ('Mumbai', 'India', 'Spring', 28.4, 16.2),\n",
       " ('Mumbai', 'India', 'Summer', 27.9, 1549.4),\n",
       " ('Mumbai', 'India', 'Fall', 27.6, 346.0),\n",
       " ('London', 'United Kingdom', 'Winter', 4.2, 207.7),\n",
       " ('London', 'United Kingdom', 'Spring', 8.3, 169.6),\n",
       " ('London', 'United Kingdom', 'Summer', 15.7, 157.0),\n",
       " ('London', 'United Kingdom', 'Fall', 10.4, 218.5),\n",
       " ('Cairo', 'Egypt', 'Winter', 13.6, 16.5),\n",
       " ('Cairo', 'Egypt', 'Spring', 20.7, 6.5),\n",
       " ('Cairo', 'Egypt', 'Summer', 27.7, 0.1),\n",
       " ('Cairo', 'Egypt', 'Fall', 22.2, 4.5)]"
      ]
     },
     "execution_count": 23,
     "metadata": {},
     "output_type": "execute_result"
    }
   ],
   "source": [
    "cur.execute(\"SELECT * FROM CityWeather\")\n",
    "cur.fetchall()"
   ]
  },
  {
   "cell_type": "code",
   "execution_count": 9,
   "id": "dd3d599f",
   "metadata": {},
   "outputs": [
    {
     "data": {
      "text/plain": [
       "[(24.8,),\n",
       " (24.8,),\n",
       " (28.4,),\n",
       " (27.9,),\n",
       " (27.6,),\n",
       " (4.2,),\n",
       " (8.3,),\n",
       " (15.7,),\n",
       " (10.4,),\n",
       " (13.6,),\n",
       " (20.7,),\n",
       " (27.7,),\n",
       " (22.2,)]"
      ]
     },
     "execution_count": 9,
     "metadata": {},
     "output_type": "execute_result"
    }
   ],
   "source": [
    "cur.execute(\"SELECT Temperature FROM CityWeather\")\n",
    "cur.fetchall()"
   ]
  },
  {
   "cell_type": "code",
   "execution_count": 10,
   "id": "17a0451b",
   "metadata": {},
   "outputs": [
    {
     "data": {
      "text/plain": [
       "[('Mumbai',), ('London',), ('Cairo',)]"
      ]
     },
     "execution_count": 10,
     "metadata": {},
     "output_type": "execute_result"
    }
   ],
   "source": [
    "cur.execute(\"SELECT DISTINCT City FROM CityWeather\")\n",
    "cur.fetchall()"
   ]
  },
  {
   "cell_type": "code",
   "execution_count": 28,
   "id": "82531a84",
   "metadata": {
    "scrolled": true
   },
   "outputs": [
    {
     "data": {
      "text/plain": [
       "[('Mumbai', 'India', 'Winter', 24.8, 5.9),\n",
       " ('Mumbai', 'India', 'Spring', 28.4, 16.2),\n",
       " ('Mumbai', 'India', 'Summer', 27.9, 1549.4),\n",
       " ('Mumbai', 'India', 'Fall', 27.6, 346.0)]"
      ]
     },
     "execution_count": 28,
     "metadata": {},
     "output_type": "execute_result"
    }
   ],
   "source": [
    "cur.execute(\"SELECT * FROM CityWeather WHERE country = 'India'\")\n",
    "cur.fetchall()"
   ]
  },
  {
   "cell_type": "code",
   "execution_count": 29,
   "id": "50d23ce8",
   "metadata": {},
   "outputs": [
    {
     "data": {
      "text/plain": [
       "[('Mumbai', 'India', 'Fall', 27.6, 346.0),\n",
       " ('London', 'United Kingdom', 'Fall', 10.4, 218.5),\n",
       " ('Cairo', 'Egypt', 'Fall', 22.2, 4.5)]"
      ]
     },
     "execution_count": 29,
     "metadata": {},
     "output_type": "execute_result"
    }
   ],
   "source": [
    "cur.execute(\"SELECT * FROM CityWeather WHERE Season = 'Fall'\")\n",
    "cur.fetchall()"
   ]
  },
  {
   "cell_type": "code",
   "execution_count": 36,
   "id": "2c70e884",
   "metadata": {},
   "outputs": [
    {
     "data": {
      "text/plain": [
       "[('India', 'Mumbai', 'Fall'),\n",
       " ('United Kingdom', 'London', 'Winter'),\n",
       " ('United Kingdom', 'London', 'Fall')]"
      ]
     },
     "execution_count": 36,
     "metadata": {},
     "output_type": "execute_result"
    }
   ],
   "source": [
    "cur.execute(\"SELECT Country, City, Season FROM CityWeather WHERE Rainfall >= 200 and Rainfall <= 400\")\n",
    "cur.fetchall()"
   ]
  },
  {
   "cell_type": "code",
   "execution_count": 44,
   "id": "59c8ba44",
   "metadata": {},
   "outputs": [
    {
     "data": {
      "text/plain": [
       "[('Egypt', 'Cairo'),\n",
       " ('Egypt', 'Cairo'),\n",
       " ('India', 'Mumbai'),\n",
       " ('India', 'Mumbai'),\n",
       " ('Egypt', 'Cairo'),\n",
       " ('India', 'Mumbai'),\n",
       " ('India', 'Mumbai')]"
      ]
     },
     "execution_count": 44,
     "metadata": {},
     "output_type": "execute_result"
    }
   ],
   "source": [
    "cur.execute(\"SELECT Country, City FROM CityWeather WHERE temperature > 20 ORDER by temperature\")\n",
    "cur.fetchall()"
   ]
  },
  {
   "cell_type": "code",
   "execution_count": 46,
   "id": "c7da817e",
   "metadata": {},
   "outputs": [
    {
     "data": {
      "text/plain": [
       "[(27.6,)]"
      ]
     },
     "execution_count": 46,
     "metadata": {},
     "output_type": "execute_result"
    }
   ],
   "source": [
    "cur.execute(\"SELECT SUM(Rainfall) FROM CityWeather WHERE City ='Cairo'\")\n",
    "cur.fetchall()\n"
   ]
  },
  {
   "cell_type": "code",
   "execution_count": 49,
   "id": "a590725c",
   "metadata": {},
   "outputs": [
    {
     "data": {
      "text/plain": [
       "[('Fall', 569.0),\n",
       " ('Spring', 192.29999999999998),\n",
       " ('Summer', 1706.5),\n",
       " ('Winter', 230.1)]"
      ]
     },
     "execution_count": 49,
     "metadata": {},
     "output_type": "execute_result"
    }
   ],
   "source": [
    "cur.execute(\"SELECT Season,SUM(Rainfall) FROM CityWeather GROUP BY Season\")\n",
    "cur.fetchall()"
   ]
  },
  {
   "cell_type": "code",
   "execution_count": 55,
   "id": "0b9c50da",
   "metadata": {},
   "outputs": [
    {
     "name": "stdout",
     "output_type": "stream",
     "text": [
      "['THE', 'QUICK', 'BROWN', 'FOX', 'JUMPS', 'OVER', 'THE', 'LAZY', 'DOG']\n",
      "['the', 'quick', 'brown', 'fox', 'jumps', 'over', 'the', 'lazy', 'dog']\n",
      "[3, 5, 5, 3, 5, 4, 3, 4, 3]\n",
      "[('THE', 'the', 3), ('QUICK', 'quick', 5), ('BROWN', 'brown', 5), ('FOX', 'fox', 3), ('JUMPS', 'jumps', 5), ('OVER', 'over', 4), ('THE', 'the', 3), ('LAZY', 'lazy', 4), ('DOG', 'dog', 3)]\n",
      "['quick', 'brown', 'jumps', 'over', 'lazy']\n"
     ]
    }
   ],
   "source": [
    "#9\n",
    "words = ['The', 'quick', 'brown', 'fox', 'jumps', 'over', 'the', 'lazy', 'dog']\n",
    "\n",
    "print([w.upper() for w in words])\n",
    "\n",
    "print([w.lower() for w in words])\n",
    "\n",
    "print([len(w) for w in words])\n",
    "\n",
    "print([(w.upper(), w.lower(), len(w)) for w in words])\n",
    "\n",
    "print([w for w in words if len(w) >= 4])"
   ]
  },
  {
   "cell_type": "code",
   "execution_count": null,
   "id": "b266f683",
   "metadata": {},
   "outputs": [],
   "source": []
  }
 ],
 "metadata": {
  "kernelspec": {
   "display_name": "Python 3",
   "language": "python",
   "name": "python3"
  },
  "language_info": {
   "codemirror_mode": {
    "name": "ipython",
    "version": 3
   },
   "file_extension": ".py",
   "mimetype": "text/x-python",
   "name": "python",
   "nbconvert_exporter": "python",
   "pygments_lexer": "ipython3",
   "version": "3.8.8"
  }
 },
 "nbformat": 4,
 "nbformat_minor": 5
}
